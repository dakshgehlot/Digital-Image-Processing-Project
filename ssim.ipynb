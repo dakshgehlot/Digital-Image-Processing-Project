{
 "cells": [
  {
   "cell_type": "markdown",
   "metadata": {},
   "source": [
    "### Structural Similarity Index (SSIM)\n",
    "The SSIM extracts 3 key features from an image:\n",
    "- Luminance\n",
    "- Contrast\n",
    "- Structure\n",
    "\n",
    "The comparison between the two images is performed on the basis of these 3 features."
   ]
  },
  {
   "cell_type": "markdown",
   "metadata": {},
   "source": [
    "c1 and c2 below are constants to stabilise the division with a weak denominator.<br>\n",
    "They are usually derived from (k1 x L)^2 and (k2 x L)^2, where L is the dynamic range of the pixel values <br>\n",
    "(Ex: 255 for 8 bit images)"
   ]
  },
  {
   "cell_type": "code",
   "execution_count": 1,
   "metadata": {},
   "outputs": [],
   "source": [
    "import cv2\n",
    "import numpy as np"
   ]
  },
  {
   "cell_type": "code",
   "execution_count": 2,
   "metadata": {},
   "outputs": [],
   "source": [
    "# Constants for luminance and contrast\n",
    "c1 = 6.5025\n",
    "c2 = 58.5225"
   ]
  },
  {
   "cell_type": "code",
   "execution_count": 3,
   "metadata": {},
   "outputs": [],
   "source": [
    "img1 = cv2.imread('images/messi.png', 0)"
   ]
  },
  {
   "cell_type": "code",
   "execution_count": 4,
   "metadata": {},
   "outputs": [],
   "source": [
    "# Creating a noisy image from img1\n",
    "mean = 0\n",
    "std = 25\n",
    "noise = np.random.normal(mean, std, img1.shape).astype(np.uint8)\n",
    "noisy_image = cv2.add(img1, noise)\n",
    "img2 = noisy_image"
   ]
  },
  {
   "cell_type": "code",
   "execution_count": 5,
   "metadata": {},
   "outputs": [],
   "source": [
    "# Converting to float for squaring\n",
    "img1 = np.float32(img1)\n",
    "img2 = np.float32(img2)\n",
    "img1_sq = img1 * img1\n",
    "img2_sq = img2 * img2\n",
    "img1_img2 = img1 * img2"
   ]
  },
  {
   "cell_type": "markdown",
   "metadata": {},
   "source": [
    "Now we calculate <b>the luminance, μ (Mu)</b>. Luminance is measured by averaging over all the pixel values. But we don't apply the metric globally. It's better to apply the metrics regionally and take the overall mean. So we compute the local means μ1 and μ2 using gaussian blur."
   ]
  },
  {
   "cell_type": "code",
   "execution_count": 7,
   "metadata": {},
   "outputs": [],
   "source": [
    "# Luminance\n",
    "# applying GaussianBlur with (11,11) kernel where mean=st_dev=1.5\n",
    "mu1 = cv2.GaussianBlur(img1, (11, 11), 1.5)\n",
    "mu2 = cv2.GaussianBlur(img2, (11, 11), 1.5)\n",
    "\n",
    "# Taking squares and product of the means.\n",
    "mu1_sq = mu1 * mu1\n",
    "mu2_sq = mu2 * mu2\n",
    "mu1_mu2 = mu1 * mu2"
   ]
  },
  {
   "cell_type": "markdown",
   "metadata": {},
   "source": [
    "<b>Contrast</b> is measured by taking the standard deviation (sq. root of variance) of all pixel values.\n",
    "It is denoted by <b>σ (sigma)</b>.<br>"
   ]
  },
  {
   "cell_type": "code",
   "execution_count": 8,
   "metadata": {},
   "outputs": [],
   "source": [
    "# Contrast\n",
    "sigma1_sq = cv2.GaussianBlur(img1_sq, (11, 11), 1.5)\n",
    "sigma1_sq -= mu1_sq\n",
    "sigma2_sq = cv2.GaussianBlur(img2_sq, (11, 11), 1.5)\n",
    "sigma2_sq -= mu2_sq\n",
    "\n",
    "# sigma12 is the covariance and represents the structure correlation between the images.\n",
    "sigma12 = cv2.GaussianBlur(img1_img2, (11, 11), 1.5)\n",
    "sigma12 -= mu1_mu2\n"
   ]
  },
  {
   "cell_type": "code",
   "execution_count": 10,
   "metadata": {},
   "outputs": [],
   "source": [
    "# Luminance term correlating the two images.\n",
    "numerator1 = 2 * mu1_mu2 + c1\n",
    "denominator1 = mu1_sq + mu2_sq + c2 \n",
    "\n",
    "# Contrast and structure term correlating the two images.\n",
    "numerator2 = 2 * sigma12 + c2\n",
    "denominator2 = sigma1_sq + sigma2_sq + c2"
   ]
  },
  {
   "cell_type": "code",
   "execution_count": 11,
   "metadata": {},
   "outputs": [],
   "source": [
    "# Combined SSIM Index\n",
    "ssim_score = (numerator1 * numerator2) / (denominator1 * denominator2)"
   ]
  },
  {
   "cell_type": "markdown",
   "metadata": {},
   "source": [
    "This system calculates the Structural Similarity Index between 2 given images which is a value between -1 and +1. A value of +1 indicates that the 2 given images are very similar or the same while a value of -1 indicates the 2 given images are very different. Often these values are adjusted to be in the range [0, 1], where the extremes hold the same meaning."
   ]
  },
  {
   "cell_type": "code",
   "execution_count": 12,
   "metadata": {},
   "outputs": [
    {
     "name": "stdout",
     "output_type": "stream",
     "text": [
      "0.10644442\n"
     ]
    }
   ],
   "source": [
    "print(ssim_score.mean())"
   ]
  },
  {
   "cell_type": "code",
   "execution_count": null,
   "metadata": {},
   "outputs": [],
   "source": []
  }
 ],
 "metadata": {
  "kernelspec": {
   "display_name": "venv",
   "language": "python",
   "name": "python3"
  },
  "language_info": {
   "codemirror_mode": {
    "name": "ipython",
    "version": 3
   },
   "file_extension": ".py",
   "mimetype": "text/x-python",
   "name": "python",
   "nbconvert_exporter": "python",
   "pygments_lexer": "ipython3",
   "version": "3.11.4"
  }
 },
 "nbformat": 4,
 "nbformat_minor": 2
}
